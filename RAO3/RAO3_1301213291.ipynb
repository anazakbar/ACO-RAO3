{
 "cells": [
  {
   "cell_type": "markdown",
   "metadata": {},
   "source": [
    "# RAO3 Algorithm"
   ]
  },
  {
   "cell_type": "markdown",
   "metadata": {},
   "source": [
    "Name    : Anaz Akbar Azhar <br>\n",
    "SID     : 1301213291"
   ]
  },
  {
   "cell_type": "markdown",
   "metadata": {},
   "source": [
    "# kode\n",
    "\n",
    "import library yang dibutuhkan"
   ]
  },
  {
   "cell_type": "code",
   "execution_count": 1,
   "metadata": {},
   "outputs": [],
   "source": [
    "import numpy as np\n",
    "import matplotlib.pyplot as plt\n",
    "from matplotlib.animation import FuncAnimation, PillowWriter"
   ]
  },
  {
   "cell_type": "markdown",
   "metadata": {},
   "source": [
    "# Fungsi F9"
   ]
  },
  {
   "cell_type": "code",
   "execution_count": 2,
   "metadata": {},
   "outputs": [],
   "source": [
    "def F9(x):\n",
    "    return np.sum(x**2 - 10 * np.cos(2 * np.pi * x) + 10, axis=1) # axis = 1 membantu untuk memastikan penjumlahan dilakukan untuk setiap semut secara terpisah"
   ]
  },
  {
   "cell_type": "markdown",
   "metadata": {},
   "source": [
    "## Parameter"
   ]
  },
  {
   "cell_type": "markdown",
   "metadata": {},
   "source": [
    "Parameter di dalam firefly algorithm ada berapa jenis seperti yang dijelaskan di bawah ini"
   ]
  },
  {
   "cell_type": "code",
   "execution_count": 3,
   "metadata": {},
   "outputs": [],
   "source": [
    "# Inisialisasi parameter-parameter algoritma\n",
    "n_candidates = 40  # Ukuran populasi\n",
    "max_iterations = 100  # Jumlah iterasi maksimum\n",
    "x_range = (-50, 50)  # Rentang untuk populasi awal"
   ]
  },
  {
   "cell_type": "code",
   "execution_count": 4,
   "metadata": {},
   "outputs": [],
   "source": [
    "# Inisialisasi populasi awal secara acak\n",
    "np.random.seed(42)\n",
    "population = np.random.uniform(x_range[0], x_range[1], (n_candidates, 2))"
   ]
  },
  {
   "cell_type": "code",
   "execution_count": 5,
   "metadata": {},
   "outputs": [],
   "source": [
    "# Fungsi untuk menghitung fitness dari populasi\n",
    "def calculate_fitness(population):\n",
    "    return np.array([F9(individual.reshape(1, -1)) for individual in population])"
   ]
  },
  {
   "cell_type": "code",
   "execution_count": 6,
   "metadata": {},
   "outputs": [],
   "source": [
    "# Inisialisasi fitness populasi awal\n",
    "fitness = calculate_fitness(population)"
   ]
  },
  {
   "cell_type": "markdown",
   "metadata": {},
   "source": [
    "## RAO3 Algorithm"
   ]
  },
  {
   "cell_type": "code",
   "execution_count": 7,
   "metadata": {},
   "outputs": [],
   "source": [
    "# RAO3 setup \n",
    "def rao_v3(population, fitness):\n",
    "    history = [] # List untuk menyimpan populasi pada setiap iterasi\n",
    "    for _ in range(max_iterations):\n",
    "        new_population = np.copy(population) # Salin populasi saat ini untuk penggunaan dalam iterasi ini\n",
    "        for i in range(n_candidates):\n",
    "            r1 = np.random.random()\n",
    "            r2 = np.random.random()\n",
    "            best = population[np.argmin(fitness)]\n",
    "            worst = population[np.argmax(fitness)]\n",
    "            random_individual = population[np.random.randint(0, n_candidates)]\n",
    "            \n",
    "            # Update aturan dimodifikasi sesuai dengan formula\n",
    "            new_population[i] = population[i] + \\\n",
    "                                r1 * (best - np.abs(worst)) + \\\n",
    "                                r2 * (np.logical_or(population[i], random_individual) - population[i])\n",
    "            \n",
    "            # Memastikan batas tetap terjaga\n",
    "            new_population[i] = np.clip(new_population[i], x_range[0], x_range[1])\n",
    "        \n",
    "        # Evaluasi populasi baru\n",
    "        new_fitness = calculate_fitness(new_population)\n",
    "        \n",
    "        # Ganti populasi lama dengan yang baru jika lebih baik\n",
    "        for j in range(n_candidates):\n",
    "            if new_fitness[j] < fitness[j]:\n",
    "                population[j] = new_population[j]\n",
    "                fitness[j] = new_fitness[j]\n",
    "        \n",
    "        history.append(population.copy())\n",
    "    \n",
    "    return population, history"
   ]
  },
  {
   "cell_type": "code",
   "execution_count": 8,
   "metadata": {},
   "outputs": [],
   "source": [
    "final_population, history = rao_v3(population, fitness)"
   ]
  },
  {
   "cell_type": "markdown",
   "metadata": {},
   "source": [
    "## Buat GIF dari data yang telah ada"
   ]
  },
  {
   "cell_type": "code",
   "execution_count": 9,
   "metadata": {},
   "outputs": [
    {
     "ename": "NameError",
     "evalue": "name 'F9_vectorized' is not defined",
     "output_type": "error",
     "traceback": [
      "\u001b[0;31m---------------------------------------------------------------------------\u001b[0m",
      "\u001b[0;31mNameError\u001b[0m                                 Traceback (most recent call last)",
      "Cell \u001b[0;32mIn[9], line 6\u001b[0m\n\u001b[1;32m      4\u001b[0m X2 \u001b[38;5;241m=\u001b[39m np\u001b[38;5;241m.\u001b[39mlinspace(bounds[\u001b[38;5;241m0\u001b[39m], bounds[\u001b[38;5;241m1\u001b[39m], \u001b[38;5;241m400\u001b[39m)\n\u001b[1;32m      5\u001b[0m X1, X2 \u001b[38;5;241m=\u001b[39m np\u001b[38;5;241m.\u001b[39mmeshgrid(X1, X2)\n\u001b[0;32m----> 6\u001b[0m Z \u001b[38;5;241m=\u001b[39m \u001b[43mF9_vectorized\u001b[49m(np\u001b[38;5;241m.\u001b[39mcolumn_stack([X1\u001b[38;5;241m.\u001b[39mravel(), X2\u001b[38;5;241m.\u001b[39mravel()]))\u001b[38;5;241m.\u001b[39mreshape(X1\u001b[38;5;241m.\u001b[39mshape)\n\u001b[1;32m      8\u001b[0m \u001b[38;5;66;03m# Atur gambar dan sumbu untuk animasi\u001b[39;00m\n\u001b[1;32m      9\u001b[0m fig, ax \u001b[38;5;241m=\u001b[39m plt\u001b[38;5;241m.\u001b[39msubplots()\n",
      "\u001b[0;31mNameError\u001b[0m: name 'F9_vectorized' is not defined"
     ]
    }
   ],
   "source": [
    "# Persiapkan data plot kontur\n",
    "bounds = (-50, 50)\n",
    "X1 = np.linspace(bounds[0], bounds[1], 400)\n",
    "X2 = np.linspace(bounds[0], bounds[1], 400)\n",
    "X1, X2 = np.meshgrid(X1, X2)\n",
    "Z = F9(np.column_stack([X1.ravel(), X2.ravel()])).reshape(X1.shape)\n",
    "\n",
    "# Atur gambar dan sumbu untuk animasi\n",
    "fig, ax = plt.subplots()\n",
    "ax.set_xlim(bounds[0], bounds[1])\n",
    "ax.set_ylim(bounds[0], bounds[1])\n",
    "contour = ax.contour(X1, X2, Z, levels=50)\n",
    "scatter = ax.scatter([], [], c='red')  # Kandidat solusi\n",
    "\n",
    "# Fungsi pembaruan untuk animasi\n",
    "def update(frame):\n",
    "    positions = history[frame]\n",
    "    scatter.set_offsets(positions)\n",
    "    ax.set_title(f'Rao Algorithm V3 Iteration {frame + 1}')\n",
    "    return scatter,\n",
    "\n",
    "ani = FuncAnimation(fig, update, frames=len(history), blit=True, repeat=False)\n",
    "\n",
    "writer = PillowWriter(fps=5)  # Adjust fps for speed preference\n",
    "ani.save(\"rao_algorithm_v3_1301213291.gif\", writer=writer)\n",
    "plt.show()"
   ]
  }
 ],
 "metadata": {
  "kernelspec": {
   "display_name": "Python 3 (ipykernel)",
   "language": "python",
   "name": "python3"
  },
  "language_info": {
   "codemirror_mode": {
    "name": "ipython",
    "version": 3
   },
   "file_extension": ".py",
   "mimetype": "text/x-python",
   "name": "python",
   "nbconvert_exporter": "python",
   "pygments_lexer": "ipython3",
   "version": "3.11.3"
  }
 },
 "nbformat": 4,
 "nbformat_minor": 2
}
